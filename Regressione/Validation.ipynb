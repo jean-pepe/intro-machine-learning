{
 "cells": [
  {
   "cell_type": "markdown",
   "id": "136ceb16",
   "metadata": {},
   "source": [
    "# Validation"
   ]
  },
  {
   "cell_type": "markdown",
   "id": "993a8d42",
   "metadata": {},
   "source": [
    "The wrong way ... "
   ]
  },
  {
   "cell_type": "code",
   "execution_count": 1,
   "id": "a7a39b76",
   "metadata": {},
   "outputs": [
    {
     "data": {
      "text/plain": [
       "1.0"
      ]
     },
     "execution_count": 1,
     "metadata": {},
     "output_type": "execute_result"
    }
   ],
   "source": [
    "from sklearn.datasets import load_iris\n",
    "from sklearn.neighbors import KNeighborsClassifier\n",
    "from sklearn.metrics import accuracy_score\n",
    "\n",
    "#datasets from sklearn https://scikit-learn.org/stable/datasets.html\n",
    "# iris dataset information: https://scikit-learn.org/stable/auto_examples/datasets/plot_iris_dataset.html\n",
    "iris = load_iris()\n",
    "X = iris.data\n",
    "y = iris.target\n",
    "\n",
    "\n",
    "# k-nearest neighbors classifier: https://scikit-learn.org/stable/modules/neighbors.html#classification\n",
    "model = KNeighborsClassifier(n_neighbors=1)\n",
    "\n",
    "# fit the model on the (train) data\n",
    "model.fit(X, y)\n",
    "\n",
    "# evaluate the model on the (train) data\n",
    "y_model = model.predict(X)\n",
    "accuracy_score(y, y_model)"
   ]
  },
  {
   "cell_type": "markdown",
   "id": "b9f66510",
   "metadata": {},
   "source": [
    "### It is not sufficient to look at the results of the model on the training data. Let's validate our model! "
   ]
  },
  {
   "cell_type": "code",
   "execution_count": 2,
   "id": "deb2f007",
   "metadata": {},
   "outputs": [
    {
     "data": {
      "text/plain": [
       "0.9466666666666667"
      ]
     },
     "execution_count": 2,
     "metadata": {},
     "output_type": "execute_result"
    }
   ],
   "source": [
    "from sklearn.model_selection import train_test_split\n",
    "# split the data with 50% in each set\n",
    "X1, X2, y1, y2 = train_test_split(X, y, train_size=0.5)\n",
    "\n",
    "# fit the model on train data\n",
    "model.fit(X1, y1)\n",
    "\n",
    "# evaluate the model on the test data\n",
    "y2_model = model.predict(X2)\n",
    "accuracy_score(y2, y2_model)"
   ]
  },
  {
   "cell_type": "markdown",
   "id": "10028151",
   "metadata": {},
   "source": [
    "#### Idea: use both subsets to estimate the accuracy of the model!"
   ]
  },
  {
   "cell_type": "code",
   "execution_count": 3,
   "id": "9cae0927",
   "metadata": {},
   "outputs": [
    {
     "data": {
      "text/plain": [
       "(0.96, 0.9466666666666667)"
      ]
     },
     "execution_count": 3,
     "metadata": {},
     "output_type": "execute_result"
    }
   ],
   "source": [
    "y2_model = model.fit(X1, y1).predict(X2)\n",
    "y1_model = model.fit(X2, y2).predict(X1)\n",
    "accuracy_score(y1, y1_model), accuracy_score(y2, y2_model)"
   ]
  },
  {
   "cell_type": "markdown",
   "id": "4d5782c2",
   "metadata": {},
   "source": [
    "#### Let's use k-fold and leave-one-out cross validation"
   ]
  },
  {
   "cell_type": "code",
   "execution_count": 4,
   "id": "7b2442e6",
   "metadata": {},
   "outputs": [
    {
     "name": "stdout",
     "output_type": "stream",
     "text": [
      "[1.         1.         0.86666667 0.93333333 0.83333333]\n"
     ]
    },
    {
     "data": {
      "text/plain": [
       "0.9266666666666665"
      ]
     },
     "execution_count": 4,
     "metadata": {},
     "output_type": "execute_result"
    }
   ],
   "source": [
    "from sklearn.model_selection import cross_val_score\n",
    "from sklearn.model_selection import KFold\n",
    "scores = cross_val_score(model, X, y, cv=KFold(5))\n",
    "print(scores)\n",
    "scores.mean()"
   ]
  },
  {
   "cell_type": "code",
   "execution_count": 5,
   "id": "e6bfd514",
   "metadata": {},
   "outputs": [
    {
     "name": "stdout",
     "output_type": "stream",
     "text": [
      "(150,)\n"
     ]
    },
    {
     "data": {
      "text/plain": [
       "0.96"
      ]
     },
     "execution_count": 5,
     "metadata": {},
     "output_type": "execute_result"
    }
   ],
   "source": [
    "from sklearn.model_selection import LeaveOneOut\n",
    "scores = cross_val_score(model, X, y, cv=LeaveOneOut())\n",
    "print(scores.shape)\n",
    "scores.mean()"
   ]
  },
  {
   "cell_type": "code",
   "execution_count": null,
   "id": "a5412aa6",
   "metadata": {},
   "outputs": [],
   "source": []
  }
 ],
 "metadata": {
  "kernelspec": {
   "display_name": "Python 3 (ipykernel)",
   "language": "python",
   "name": "python3"
  },
  "language_info": {
   "codemirror_mode": {
    "name": "ipython",
    "version": 3
   },
   "file_extension": ".py",
   "mimetype": "text/x-python",
   "name": "python",
   "nbconvert_exporter": "python",
   "pygments_lexer": "ipython3",
   "version": "3.10.9"
  }
 },
 "nbformat": 4,
 "nbformat_minor": 5
}
