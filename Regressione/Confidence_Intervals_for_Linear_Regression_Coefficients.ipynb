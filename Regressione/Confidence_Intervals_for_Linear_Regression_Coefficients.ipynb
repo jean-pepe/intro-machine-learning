{
 "cells": [
  {
   "cell_type": "markdown",
   "metadata": {},
   "source": [
    "# Computing confidence intervals for linear regression coefficients \n",
    "\n",
    "Assume we have a linear regression problem, where the data comes from the model\n",
    "\n",
    "$$\n",
    "y = \\langle \\textbf{w}, \\textbf{x} \\rangle + \\phi\n",
    "$$\n",
    "\n",
    "where $\\textbf{w} \\in \\mathbf{R}^2$ and $\\phi \\sim{\\cal N}(0,\\sigma^2)$."
   ]
  },
  {
   "cell_type": "markdown",
   "metadata": {},
   "source": [
    "#### Part 1. Assume $\\sigma$ known and fixed. Thus, we estimate linear regression coefficients using normal distribution. Let's see an example. "
   ]
  },
  {
   "cell_type": "code",
   "execution_count": 1,
   "metadata": {},
   "outputs": [
    {
     "name": "stdout",
     "output_type": "stream",
     "text": [
      "Estimated weights of the linear model:\n",
      " [[2.99641392e+00]\n",
      " [1.36817691e-03]]\n",
      "\n",
      "Confidence intervals for the two weights:\n",
      " [[ 2.97410492  3.01872293]\n",
      " [-0.01505021  0.01778657]]\n"
     ]
    }
   ],
   "source": [
    "import numpy as np\n",
    "from scipy.stats import t\n",
    "np.random.seed(40)\n",
    "\n",
    "m=150\n",
    "d=1 #thus only one feature\n",
    "\n",
    "#standard deviation of \"noise\" in the feature\n",
    "sigma_x = 1.\n",
    "#standard deviation of error\n",
    "sigma_e = 0.1\n",
    "\n",
    "#values on which depend the feature \n",
    "X_0 = np.ones((m,1))\n",
    "\n",
    "#values of the feature = X_0 + noise (with standard deviation = sigma_x)\n",
    "X_1 = X_0 + np.random.normal(loc=0.0, scale=sigma_x, size=(m,1))\n",
    "\n",
    "#design matrix\n",
    "X=np.hstack((X_0,X_1))\n",
    "\n",
    "w = np.array([[3],[0]])\n",
    "#note that the feature is not used in the model!\n",
    "\n",
    "#Y = linear model as above (noise has standard devatiation = sigma_e)\n",
    "Y = np.dot(X,w)+ np.random.normal(loc=0.0, scale=sigma_e, size=(m,1))\n",
    "\n",
    "#compute the inverse of X^T dot X\n",
    "XX_inv = np.linalg.inv(np.dot(np.transpose(X),X))\n",
    "\n",
    "#compute the estimated weights of the linear model\n",
    "w_hat = np.dot(XX_inv,np.dot(np.transpose(X),Y))\n",
    "\n",
    "#compute the variance of the normal distribution from which the estimated weights come from \n",
    "var_w = np.array(np.diag(XX_inv) * sigma_e**2).reshape(2,1)\n",
    "\n",
    "#compute the confidence intervals (using the normal distribution, assuming sigma_e known)\n",
    "CI_min = w_hat - 1.96*np.sqrt(var_w) #alpha=0.05 \n",
    "CI_max = w_hat + 1.96*np.sqrt(var_w) #alpha=0.05\n",
    "\n",
    "print(\"Estimated weights of the linear model:\\n\", w_hat)\n",
    "print(\"\\nConfidence intervals for the two weights:\\n\",np.hstack((CI_min,CI_max)))"
   ]
  },
  {
   "cell_type": "markdown",
   "metadata": {},
   "source": [
    "#### Part 2. Assume $\\sigma$ unknown and to be estimated. Thus, we estimate linear regression coefficients using t-student distribution. Let's see an example. "
   ]
  },
  {
   "cell_type": "code",
   "execution_count": 2,
   "metadata": {},
   "outputs": [
    {
     "name": "stdout",
     "output_type": "stream",
     "text": [
      "Estimated variance of noise:\n",
      " [0.01146231]\n",
      "\n",
      "Confidence intervals for the two weights:\n",
      " [[ 2.97233295  3.0204949 ]\n",
      " [-0.0163543   0.01909066]]\n"
     ]
    }
   ],
   "source": [
    "#compute estimated targets\n",
    "y_hat = np.dot(X,w_hat)\n",
    "\n",
    "#compute estimated variance sigma_e\n",
    "sigma2_hat = (1./(m-d-1)) * sum((y_hat-Y)**2)\n",
    "print(\"Estimated variance of noise:\\n\", sigma2_hat) #note: not the standard deviation sigma_e\n",
    "\n",
    "#compute the variance of the normal distribution from which the estimated weights come from\n",
    "var_w = np.array(np.diag(XX_inv) * sigma2_hat).reshape(2,1)\n",
    "\n",
    "#compute the confidence intervals (using the t-student distribution, assuming sigma_e unknown)\n",
    "CI_min = w_hat - t.ppf(1-0.025,m-d-1)*np.sqrt(var_w) #alpha=0.05 \n",
    "CI_max = w_hat + t.ppf(1-0.025,m-d-1)*np.sqrt(var_w) #alpha=0.05 \n",
    "print(\"\\nConfidence intervals for the two weights:\\n\",np.hstack((CI_min,CI_max)))"
   ]
  },
  {
   "cell_type": "code",
   "execution_count": null,
   "metadata": {},
   "outputs": [],
   "source": []
  }
 ],
 "metadata": {
  "anaconda-cloud": {},
  "kernelspec": {
   "display_name": "Python 3 (ipykernel)",
   "language": "python",
   "name": "python3"
  },
  "language_info": {
   "codemirror_mode": {
    "name": "ipython",
    "version": 3
   },
   "file_extension": ".py",
   "mimetype": "text/x-python",
   "name": "python",
   "nbconvert_exporter": "python",
   "pygments_lexer": "ipython3",
   "version": "3.10.9"
  }
 },
 "nbformat": 4,
 "nbformat_minor": 1
}
